{
  "nbformat": 4,
  "nbformat_minor": 0,
  "metadata": {
    "colab": {
      "provenance": [],
      "authorship_tag": "ABX9TyM2R3SUiE58zyTc9CxArxV/",
      "include_colab_link": true
    },
    "kernelspec": {
      "name": "python3",
      "display_name": "Python 3"
    },
    "language_info": {
      "name": "python"
    }
  },
  "cells": [
    {
      "cell_type": "markdown",
      "metadata": {
        "id": "view-in-github",
        "colab_type": "text"
      },
      "source": [
        "<a href=\"https://colab.research.google.com/github/Liliya-Gatina/Homeworks/blob/main/%D0%A0%D0%B0%D0%B1%D0%BE%D1%82%D0%B0_5.ipynb\" target=\"_parent\"><img src=\"https://colab.research.google.com/assets/colab-badge.svg\" alt=\"Open In Colab\"/></a>"
      ]
    },
    {
      "cell_type": "markdown",
      "source": [
        "Array6. Даны целые числа N (> 2), A и B. Сформировать и вывести целочисленный массив размера N, первый элемент которого равен A, второй равен B, а каждый последующий элемент равен сумме всех предыдущих."
      ],
      "metadata": {
        "id": "bM7_LLcclG3u"
      }
    },
    {
      "cell_type": "code",
      "source": [
        "def generate_array(N, A, B):\n",
        "    arr = [A, B]\n",
        "    for _ in range(2, N):\n",
        "        arr.append(sum(arr))\n",
        "    return arr\n",
        "\n",
        "N = int(input())\n",
        "A = int(input())\n",
        "B = int(input())\n",
        "\n",
        "print(generate_array(N, A, B))"
      ],
      "metadata": {
        "colab": {
          "base_uri": "https://localhost:8080/"
        },
        "id": "6NZEgOlX6th3",
        "outputId": "d354f5cd-22a1-4a07-f82f-017a6b4ae259"
      },
      "execution_count": 1,
      "outputs": [
        {
          "output_type": "stream",
          "name": "stdout",
          "text": [
            "5\n",
            "7\n",
            "13\n",
            "[7, 13, 20, 40, 80]\n"
          ]
        }
      ]
    },
    {
      "cell_type": "markdown",
      "source": [
        "Array15. Дан массив A размера N. Вывести вначале его элементы с нечетными номерами в порядке возрастания номеров, а затем — элементы с четными номерами в порядке убывания номеров.\n",
        "A1,  A3,  A5,  …,  A6,  A4,  A2.\n",
        "Условный оператор не использовать.\n"
      ],
      "metadata": {
        "id": "86jY_zEplNaA"
      }
    },
    {
      "cell_type": "code",
      "source": [
        "n = int(input())\n",
        "a = list(map(int, input().split()))\n",
        "odd_elements = a[::2]\n",
        "even_elements = a[1::2][::-1]\n",
        "print(*odd_elements, *even_elements)"
      ],
      "metadata": {
        "colab": {
          "base_uri": "https://localhost:8080/"
        },
        "id": "pF6LiFz28CVD",
        "outputId": "14694c08-1387-4e60-f381-ce44958bff46"
      },
      "execution_count": 2,
      "outputs": [
        {
          "output_type": "stream",
          "name": "stdout",
          "text": [
            "55\n",
            "95\n",
            "95\n"
          ]
        }
      ]
    },
    {
      "cell_type": "markdown",
      "source": [
        "Array26. Дан целочисленный массив размера N. Проверить, чередуются ли в нем четные и нечетные числа. Если чередуются, то вывести 0, если нет, то вывести порядковый номер первого элемента, нарушающего закономерность."
      ],
      "metadata": {
        "id": "5QIkC98hrLYQ"
      }
    },
    {
      "cell_type": "code",
      "source": [
        "n = int(input())\n",
        "a = list(map(int, input().split()))\n",
        "for i in range(n - 1):\n",
        "    if (a[i] % 2 == a[i+1] % 2):\n",
        "        print(i + 1)\n",
        "        break\n",
        "else:\n",
        "    print(0)"
      ],
      "metadata": {
        "colab": {
          "base_uri": "https://localhost:8080/"
        },
        "id": "cfIFfA4ytI6Y",
        "outputId": "9f9b03e8-69ce-428d-e124-c49fd76c1bc8"
      },
      "execution_count": 5,
      "outputs": [
        {
          "output_type": "stream",
          "name": "stdout",
          "text": [
            "5\n",
            "1 2 3 4 5 \n",
            "0\n"
          ]
        }
      ]
    },
    {
      "cell_type": "markdown",
      "source": [
        "Array38. Дан массив размера N. Найти количество участков, на которых его элементы монотонно убывают."
      ],
      "metadata": {
        "id": "hLOHsDBOsaIE"
      }
    },
    {
      "cell_type": "code",
      "source": [
        "def count_decreasing_segments(arr):\n",
        "    count = 0\n",
        "    for i in range(len(arr) - 1):\n",
        "        if arr[i] > arr[i + 1]:\n",
        "            count += 1\n",
        "            while i < len(arr) - 1 and arr[i] > arr[i + 1]:\n",
        "                i += 1\n",
        "    return count\n",
        "arr = [5, 4, 3, 2, 1, 2, 3, 2, 1, 1, 0]\n",
        "print(count_decreasing_segments(arr))"
      ],
      "metadata": {
        "colab": {
          "base_uri": "https://localhost:8080/"
        },
        "id": "yncg5_JfsanJ",
        "outputId": "ff757b95-2c03-468f-e730-02b77a7b5d11"
      },
      "execution_count": 7,
      "outputs": [
        {
          "output_type": "stream",
          "name": "stdout",
          "text": [
            "7\n"
          ]
        }
      ]
    },
    {
      "cell_type": "markdown",
      "source": [
        "Array48. Дан целочисленный массив размера N. Найти максимальное количество его одинаковых элементов."
      ],
      "metadata": {
        "id": "bLpDgU2rsbJ_"
      }
    },
    {
      "cell_type": "code",
      "source": [
        "n = int(input())\n",
        "a = list(map(int, input().split()))\n",
        "\n",
        "counters = {}\n",
        "\n",
        "for num in a:\n",
        "    counters[num] = counters.get(num, 0) + 1\n",
        "\n",
        "print(max(counters.values()))"
      ],
      "metadata": {
        "colab": {
          "base_uri": "https://localhost:8080/"
        },
        "id": "GVa0Lo_7rEg9",
        "outputId": "41462d36-b068-4276-d4a5-8e86248ffe72"
      },
      "execution_count": 6,
      "outputs": [
        {
          "output_type": "stream",
          "name": "stdout",
          "text": [
            "5\n",
            "1 2 3 4 3 2 1 \n",
            "2\n"
          ]
        }
      ]
    },
    {
      "cell_type": "markdown",
      "source": [
        "Matrix4. Даны целые положительные числа M, N и набор из N чисел. Сформировать матрицу размера M * N, у которой в каждой строке содержатся все числа из исходного набора (в том же порядке)."
      ],
      "metadata": {
        "id": "0g7hFckavuum"
      }
    },
    {
      "cell_type": "code",
      "source": [
        "m = int(input())\n",
        "n = int(input())\n",
        "numbers = list(map(int, input().split()))\n",
        "matrix = [numbers[:] for _ in range(m)]\n",
        "for row in matrix:\n",
        "    print(*row)"
      ],
      "metadata": {
        "colab": {
          "base_uri": "https://localhost:8080/"
        },
        "id": "FV3eKzBfv6gx",
        "outputId": "5dccccee-a7fa-43f8-8f3e-5788c51e8277"
      },
      "execution_count": 9,
      "outputs": [
        {
          "output_type": "stream",
          "name": "stdout",
          "text": [
            "3\n",
            "4\n",
            "1 2 3 4\n",
            "1 2 3 4\n",
            "1 2 3 4\n",
            "1 2 3 4\n"
          ]
        }
      ]
    },
    {
      "cell_type": "markdown",
      "source": [
        "Matrix12. Дана матрица размера M * N. Вывести ее элементы в следующем порядке: первый столбец сверху вниз, второй столбец снизу вверх, третий столбец сверху вниз, четвертый столбец снизу вверх и т. д."
      ],
      "metadata": {
        "id": "yZapzfb3xAga"
      }
    },
    {
      "cell_type": "code",
      "source": [
        "m = int(input())\n",
        "n = int(input())\n",
        "matrix = [[int(j) for j in input().split()] for _ in range(m)]\n",
        "\n",
        "for col in range(n):\n",
        "    if col % 2 == 0:\n",
        "        for row in range(m):\n",
        "            print(matrix[row][col], end=' ')\n",
        "    else:\n",
        "        for row in range(m - 1, -1, -1):\n",
        "            print(matrix[row][col], end=' ')"
      ],
      "metadata": {
        "colab": {
          "base_uri": "https://localhost:8080/"
        },
        "id": "S1KxDrsIyWRh",
        "outputId": "3567db78-33db-4ec1-fabf-c803be438a91"
      },
      "execution_count": 10,
      "outputs": [
        {
          "output_type": "stream",
          "name": "stdout",
          "text": [
            "4\n",
            "3\n",
            "1 2 3 4\n",
            "5 6 7 8\n",
            "9 10 11 12\n",
            "13 14 15 16\n",
            "1 5 9 13 14 10 6 2 3 7 11 15 "
          ]
        }
      ]
    },
    {
      "cell_type": "markdown",
      "source": [
        "Matrix23. Дана матрица размера M * N. В каждой строке матрицы найти минимальный элемент."
      ],
      "metadata": {
        "id": "sGch2rvm3as9"
      }
    },
    {
      "cell_type": "code",
      "source": [
        "matrix = [[3, 5, 1], [8, 2, 7], [4, 9, 6]]\n",
        "mins = [min(row) for row in matrix]\n",
        "print(mins)"
      ],
      "metadata": {
        "colab": {
          "base_uri": "https://localhost:8080/"
        },
        "id": "-wsoqu6M3fNB",
        "outputId": "5f0fc183-fc71-42ab-f8b9-a67df6b85d67"
      },
      "execution_count": 11,
      "outputs": [
        {
          "output_type": "stream",
          "name": "stdout",
          "text": [
            "[1, 2, 4]\n"
          ]
        }
      ]
    },
    {
      "cell_type": "markdown",
      "source": [
        "Matrix51. Дана матрица размера M * N. Поменять местами строки, содержащие минимальный и максимальный элементы матрицы."
      ],
      "metadata": {
        "id": "xlCJ4_Ru5Tx5"
      }
    },
    {
      "cell_type": "code",
      "source": [
        "def swap_min_max_rows(matrix):\n",
        "    m, n = len(matrix), len(matrix[0])\n",
        "    min_row_idx = max_row_idx = None\n",
        "\n",
        "    for i in range(m):\n",
        "        if min_row_idx is None or min(matrix[min_row_idx]) > min(matrix[i]):\n",
        "            min_row_idx = i\n",
        "\n",
        "        if max_row_idx is None or max(matrix[max_row_idx]) < max(matrix[i]):\n",
        "            max_row_idx = i\n",
        "\n",
        "    matrix[min_row_idx], matrix[max_row_idx] = matrix[max_row_idx], matrix[min_row_idx]\n",
        "\n",
        "M, N = map(int, input().split())\n",
        "matrix = [list(map(int, input().split())) for _ in range(M)]\n",
        "swap_min_max_rows(matrix)\n",
        "for row in matrix:\n",
        "    print(*row)"
      ],
      "metadata": {
        "colab": {
          "base_uri": "https://localhost:8080/"
        },
        "id": "D0Q3q9lN5dKD",
        "outputId": "6c8c0e61-5709-4f00-8794-d0143db597d4"
      },
      "execution_count": 13,
      "outputs": [
        {
          "output_type": "stream",
          "name": "stdout",
          "text": [
            "3 3\n",
            "1 2 3\n",
            "4 5 6\n",
            "7 8 9\n",
            "7 8 9\n",
            "4 5 6\n",
            "1 2 3\n"
          ]
        }
      ]
    },
    {
      "cell_type": "markdown",
      "source": [
        "Matrix90. Дана квадратная матрица порядка M. Обнулить элементы матрицы, лежащие на побочной диагонали и ниже нее. Условный оператор не использовать."
      ],
      "metadata": {
        "id": "TaKkMoXI4h_E"
      }
    },
    {
      "cell_type": "code",
      "source": [
        "def zero_below_secondary_diagonal(matrix):\n",
        "    n = len(matrix)\n",
        "    for i in range(n):\n",
        "        for j in range(i + 1):\n",
        "            matrix[i][n - 1 - j] = 0\n",
        "m = int(input())\n",
        "matrix = [list(map(int, input().split())) for _ in range(m)]\n",
        "zero_below_secondary_diagonal(matrix)\n",
        "for row in matrix:\n",
        "    print(*row)"
      ],
      "metadata": {
        "colab": {
          "base_uri": "https://localhost:8080/"
        },
        "id": "Q3lUOcig4xTj",
        "outputId": "d2158351-982e-48cb-f8dc-efadac840d11"
      },
      "execution_count": 12,
      "outputs": [
        {
          "output_type": "stream",
          "name": "stdout",
          "text": [
            "4\n",
            "1 2 3 4\n",
            "5 6 7 8\n",
            "9 10 11 12\n",
            "13 14 15 16\n",
            "1 2 3 0\n",
            "5 6 0 0\n",
            "9 0 0 0\n",
            "0 0 0 0\n"
          ]
        }
      ]
    }
  ]
}